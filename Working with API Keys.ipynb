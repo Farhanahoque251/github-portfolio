{
 "cells": [
  {
   "cell_type": "code",
   "execution_count": 1,
   "id": "38a21ef3-7405-4a3a-889d-6a67bc09b39c",
   "metadata": {
    "tags": []
   },
   "outputs": [],
   "source": [
    "import pandas as pd\n",
    "import requests\n"
   ]
  },
  {
   "cell_type": "markdown",
   "id": "cddf60ed-82eb-4484-ac3f-c4cd27c3c63e",
   "metadata": {},
   "source": [
    "Task 8.1.3: Import the settings variable from the config module. Then use the dir command to see what attributes it has.\n"
   ]
  },
  {
   "cell_type": "code",
   "execution_count": 10,
   "id": "329f3dcf-3a75-4cb3-8d8a-05378deec629",
   "metadata": {
    "tags": []
   },
   "outputs": [
    {
     "name": "stdout",
     "output_type": "stream",
     "text": [
      "['.ipynb_checkpoints', 'config.py', 'data.py', 'first.ipynb', 'main.py', 'model', 'model.py', 'untitled.txt', '__pycache__']\n"
     ]
    }
   ],
   "source": [
    "import os\n",
    "print(os.listdir())\n"
   ]
  },
  {
   "cell_type": "code",
   "execution_count": 16,
   "id": "ac6f1b4e-fc71-4a15-91ba-02e117f697c1",
   "metadata": {
    "tags": []
   },
   "outputs": [
    {
     "name": "stdout",
     "output_type": "stream",
     "text": [
      "C:\\Users\\User\\Ambujacement Project\\.env\n"
     ]
    }
   ],
   "source": [
    "import os\n",
    "\n",
    "env_path = os.path.abspath(\".env\")\n",
    "print(env_path)"
   ]
  },
  {
   "cell_type": "code",
   "execution_count": 1,
   "id": "de02e583-38f4-4749-a91c-1c41b26c080d",
   "metadata": {
    "tags": []
   },
   "outputs": [
    {
     "name": "stdout",
     "output_type": "stream",
     "text": [
      "1.10.22\n"
     ]
    }
   ],
   "source": [
    "import pydantic\n",
    "print(pydantic.__version__)\n",
    "\n"
   ]
  },
  {
   "cell_type": "code",
   "execution_count": 2,
   "id": "58a7e604-7349-458d-8b7a-e543f07417a9",
   "metadata": {
    "tags": []
   },
   "outputs": [
    {
     "name": "stdout",
     "output_type": "stream",
     "text": [
      "Import successful!\n"
     ]
    }
   ],
   "source": [
    "from pydantic import BaseSettings\n",
    "print(\"Import successful!\")"
   ]
  },
  {
   "cell_type": "code",
   "execution_count": 10,
   "id": "4837f724-beed-40a0-b253-be2655d98ee3",
   "metadata": {
    "tags": []
   },
   "outputs": [
    {
     "data": {
      "text/plain": [
       "['Config',\n",
       " '__abstractmethods__',\n",
       " '__annotations__',\n",
       " '__class__',\n",
       " '__class_vars__',\n",
       " '__config__',\n",
       " '__custom_root_type__',\n",
       " '__delattr__',\n",
       " '__dict__',\n",
       " '__dir__',\n",
       " '__doc__',\n",
       " '__eq__',\n",
       " '__exclude_fields__',\n",
       " '__fields__',\n",
       " '__fields_set__',\n",
       " '__format__',\n",
       " '__ge__',\n",
       " '__get_validators__',\n",
       " '__getattribute__',\n",
       " '__getstate__',\n",
       " '__gt__',\n",
       " '__hash__',\n",
       " '__include_fields__',\n",
       " '__init__',\n",
       " '__init_subclass__',\n",
       " '__iter__',\n",
       " '__json_encoder__',\n",
       " '__le__',\n",
       " '__lt__',\n",
       " '__module__',\n",
       " '__ne__',\n",
       " '__new__',\n",
       " '__post_root_validators__',\n",
       " '__pre_root_validators__',\n",
       " '__pretty__',\n",
       " '__private_attributes__',\n",
       " '__reduce__',\n",
       " '__reduce_ex__',\n",
       " '__repr__',\n",
       " '__repr_args__',\n",
       " '__repr_name__',\n",
       " '__repr_str__',\n",
       " '__rich_repr__',\n",
       " '__schema_cache__',\n",
       " '__setattr__',\n",
       " '__setstate__',\n",
       " '__signature__',\n",
       " '__sizeof__',\n",
       " '__slots__',\n",
       " '__str__',\n",
       " '__subclasshook__',\n",
       " '__try_update_forward_refs__',\n",
       " '__validators__',\n",
       " '_abc_impl',\n",
       " '_build_values',\n",
       " '_calculate_keys',\n",
       " '_copy_and_set_values',\n",
       " '_decompose_class',\n",
       " '_enforce_dict_if_root',\n",
       " '_get_value',\n",
       " '_init_private_attributes',\n",
       " '_iter',\n",
       " 'alpha_api_key',\n",
       " 'construct',\n",
       " 'copy',\n",
       " 'db_name',\n",
       " 'dict',\n",
       " 'from_orm',\n",
       " 'json',\n",
       " 'model_directory',\n",
       " 'parse_file',\n",
       " 'parse_obj',\n",
       " 'parse_raw',\n",
       " 'schema',\n",
       " 'schema_json',\n",
       " 'update_forward_refs',\n",
       " 'validate']"
      ]
     },
     "execution_count": 10,
     "metadata": {},
     "output_type": "execute_result"
    }
   ],
   "source": [
    "# Import settings\n",
    "from config import settings\n",
    "\n",
    "# Use `dir` to list attributes\n",
    "dir(settings)"
   ]
  },
  {
   "cell_type": "code",
   "execution_count": 9,
   "id": "8ff4dd20-2071-459d-aead-dd5d073bad7d",
   "metadata": {
    "tags": []
   },
   "outputs": [
    {
     "name": "stdout",
     "output_type": "stream",
     "text": [
      "2e22d18e25d0a00bf729e3f7f80d7405010d1996d8b4acc8527067289bf78aaa1fdbaf48ddb2339b278c04f6f2295b1b2599ff490734c3408a16bc80cc05d0e391a28a4a05cf928e5551a5012717e40b0909f8c59f02624ebe613c3f49d2635bac075a818b60a43bb5c9d907096559f8442326de731af32049d6db6baf6c207e\n",
      "stocks.sqlite\n",
      "model\n"
     ]
    }
   ],
   "source": [
    "from config import settings\n",
    "\n",
    "print(settings.alpha_api_key)\n",
    "print(settings.db_name)\n",
    "print(settings.model_directory)\n",
    "\n",
    "\n",
    "\n"
   ]
  },
  {
   "cell_type": "markdown",
   "id": "428f809b-a2df-4d54-9523-01bd7d54795b",
   "metadata": {},
   "source": [
    "Task 8.1.4: Create a new URL for \"AMBUJACEM.BSE\". This time, use the base URL \"https://learn-api.wqu.edu/1/data-services/alpha-vantage/query?\" and incorporate our API key."
   ]
  },
  {
   "cell_type": "code",
   "execution_count": 11,
   "id": "350d223a-1eec-4e93-83d3-12a3427585e2",
   "metadata": {
    "tags": []
   },
   "outputs": [
    {
     "name": "stdout",
     "output_type": "stream",
     "text": [
      "url type: <class 'str'>\n"
     ]
    },
    {
     "data": {
      "text/plain": [
       "'https://learn-api.wqu.edu/1/data-services/alpha-vantage/query?function=TIME_SERIES_DAILY&symbol=AMBUJACEM.BSE&apikey=2e22d18e25d0a00bf729e3f7f80d7405010d1996d8b4acc8527067289bf78aaa1fdbaf48ddb2339b278c04f6f2295b1b2599ff490734c3408a16bc80cc05d0e391a28a4a05cf928e5551a5012717e40b0909f8c59f02624ebe613c3f49d2635bac075a818b60a43bb5c9d907096559f8442326de731af32049d6db6baf6c207e'"
      ]
     },
     "execution_count": 11,
     "metadata": {},
     "output_type": "execute_result"
    }
   ],
   "source": [
    "url = (\"https://learn-api.wqu.edu/1/data-services/alpha-vantage/query?\"\n",
    "       \"function=TIME_SERIES_DAILY&\"\n",
    "       \"symbol=AMBUJACEM.BSE&\"\n",
    "       f\"apikey={settings.alpha_api_key}\"\n",
    "      )\n",
    "print(\"url type:\", type(url))\n",
    "url\n"
   ]
  },
  {
   "cell_type": "markdown",
   "id": "6d4aeae5-936c-4518-a51c-1b42e3fb626f",
   "metadata": {},
   "source": [
    "Task 8.1.5: To do this task I go to the documentation for the AlphaVantage Time Series Daily API(https://www.alphavantage.co/documentation/#daily), Expand my URL to incorporate all the parameters listed in the documentation. Also, to make your URL more dynamic, create variable names for all the parameters that can be added to the URL."
   ]
  },
  {
   "cell_type": "code",
   "execution_count": 12,
   "id": "c83a5aeb-a324-4212-9ec6-62f5fd8f4cb3",
   "metadata": {
    "tags": []
   },
   "outputs": [
    {
     "name": "stdout",
     "output_type": "stream",
     "text": [
      "url type: <class 'str'>\n"
     ]
    },
    {
     "data": {
      "text/plain": [
       "'https://learn-api.wqu.edu/1/data-services/alpha-vantage/query?function=TIME_SERIES_DAILY&symbol=AMBUJACEM.BSE&outputsize=compact&datatype=json&apikey=2e22d18e25d0a00bf729e3f7f80d7405010d1996d8b4acc8527067289bf78aaa1fdbaf48ddb2339b278c04f6f2295b1b2599ff490734c3408a16bc80cc05d0e391a28a4a05cf928e5551a5012717e40b0909f8c59f02624ebe613c3f49d2635bac075a818b60a43bb5c9d907096559f8442326de731af32049d6db6baf6c207e'"
      ]
     },
     "execution_count": 12,
     "metadata": {},
     "output_type": "execute_result"
    }
   ],
   "source": [
    "ticker = \"AMBUJACEM.BSE\"\n",
    "output_size = \"compact\"\n",
    "data_type = \"json\"\n",
    "\n",
    "\n",
    "url = (\"https://learn-api.wqu.edu/1/data-services/alpha-vantage/query?\"\n",
    "       \"function=TIME_SERIES_DAILY&\"\n",
    "       f\"symbol={ticker}&\"\n",
    "       f\"outputsize={output_size}&\"\n",
    "       f\"datatype={data_type}&\"\n",
    "       f\"apikey={settings.alpha_api_key}\"\n",
    "      )\n",
    "\n",
    "\n",
    "\n",
    "\n",
    "print(\"url type:\", type(url))\n",
    "url\n"
   ]
  },
  {
   "cell_type": "markdown",
   "id": "d0d6c2e5-d088-461d-b75a-9b0db61d9292",
   "metadata": {},
   "source": [
    "#Accessing APIs Through a Request\n",
    "##I've seen how to access the AlphaVantage API by clicking on a URL, but this won't work for the application I am building in this project because only humans click URLs. Computer programs access APIs by making requests. Let's build our first request using the URL.\n"
   ]
  },
  {
   "cell_type": "markdown",
   "id": "412b6615-e3fa-4e60-9df2-c5e5cf811e89",
   "metadata": {},
   "source": [
    "Task: I wil use the requests library to make a get request to the URL  created in the previous task and then assign the response to the variable response."
   ]
  },
  {
   "cell_type": "code",
   "execution_count": 15,
   "id": "5cc4ecc0-17dd-4c3c-a168-dd19146605e0",
   "metadata": {
    "tags": []
   },
   "outputs": [
    {
     "name": "stdout",
     "output_type": "stream",
     "text": [
      "response type: <class 'requests.models.Response'>\n"
     ]
    }
   ],
   "source": [
    "import requests\n",
    "response = requests.get(url=url)\n",
    "\n",
    "print(\"response type:\", type(response))\n"
   ]
  },
  {
   "cell_type": "markdown",
   "id": "70e105c2-fbda-42b0-a2f6-0e0bacc95660",
   "metadata": {
    "tags": []
   },
   "source": [
    "Task :Now I Use dir command to see what attributes and methods response has."
   ]
  },
  {
   "cell_type": "code",
   "execution_count": 16,
   "id": "65739ab6-8ed8-4cd2-bf86-cef2bf7a0cdc",
   "metadata": {
    "tags": []
   },
   "outputs": [
    {
     "data": {
      "text/plain": [
       "['__attrs__',\n",
       " '__bool__',\n",
       " '__class__',\n",
       " '__delattr__',\n",
       " '__dict__',\n",
       " '__dir__',\n",
       " '__doc__',\n",
       " '__enter__',\n",
       " '__eq__',\n",
       " '__exit__',\n",
       " '__format__',\n",
       " '__ge__',\n",
       " '__getattribute__',\n",
       " '__getstate__',\n",
       " '__gt__',\n",
       " '__hash__',\n",
       " '__init__',\n",
       " '__init_subclass__',\n",
       " '__iter__',\n",
       " '__le__',\n",
       " '__lt__',\n",
       " '__module__',\n",
       " '__ne__',\n",
       " '__new__',\n",
       " '__nonzero__',\n",
       " '__reduce__',\n",
       " '__reduce_ex__',\n",
       " '__repr__',\n",
       " '__setattr__',\n",
       " '__setstate__',\n",
       " '__sizeof__',\n",
       " '__str__',\n",
       " '__subclasshook__',\n",
       " '__weakref__',\n",
       " '_content',\n",
       " '_content_consumed',\n",
       " '_next',\n",
       " 'apparent_encoding',\n",
       " 'close',\n",
       " 'connection',\n",
       " 'content',\n",
       " 'cookies',\n",
       " 'elapsed',\n",
       " 'encoding',\n",
       " 'headers',\n",
       " 'history',\n",
       " 'is_permanent_redirect',\n",
       " 'is_redirect',\n",
       " 'iter_content',\n",
       " 'iter_lines',\n",
       " 'json',\n",
       " 'links',\n",
       " 'next',\n",
       " 'ok',\n",
       " 'raise_for_status',\n",
       " 'raw',\n",
       " 'reason',\n",
       " 'request',\n",
       " 'status_code',\n",
       " 'text',\n",
       " 'url']"
      ]
     },
     "execution_count": 16,
     "metadata": {},
     "output_type": "execute_result"
    }
   ],
   "source": [
    "dir(response)"
   ]
  },
  {
   "cell_type": "markdown",
   "id": "326cd170-19a6-453d-93c1-b4aedf99e6d7",
   "metadata": {},
   "source": [
    "Task : I Assign the status code for your response to the variable response_code."
   ]
  },
  {
   "cell_type": "code",
   "execution_count": 18,
   "id": "ea81d880-3161-4474-bf4c-31889aef71fb",
   "metadata": {
    "tags": []
   },
   "outputs": [
    {
     "name": "stdout",
     "output_type": "stream",
     "text": [
      "code type: <class 'int'>\n"
     ]
    },
    {
     "data": {
      "text/plain": [
       "200"
      ]
     },
     "execution_count": 18,
     "metadata": {},
     "output_type": "execute_result"
    }
   ],
   "source": [
    "response_code = response.status_code\n",
    "\n",
    "\n",
    "print(\"code type:\", type(response_code))\n",
    "response_code"
   ]
  },
  {
   "cell_type": "markdown",
   "id": "6bbb48c0-6506-432e-b007-a899b20e135c",
   "metadata": {},
   "source": [
    "Translated to English, 200 means \"OK\". It's the standard response for a successful HTTP request. In other words, it worked! We successfully received data back from the AlphaVantage API.\n",
    "Now let's take a look at the text."
   ]
  },
  {
   "cell_type": "code",
   "execution_count": null,
   "id": "f7620d42-1e68-4e48-9dfa-831c2987abb3",
   "metadata": {},
   "outputs": [],
   "source": [
    "Task: Assign the text for your response to the variable response_text."
   ]
  },
  {
   "cell_type": "code",
   "execution_count": 19,
   "id": "a890bb12-c864-43a8-97be-4b9c0be12a88",
   "metadata": {
    "tags": []
   },
   "outputs": [
    {
     "name": "stdout",
     "output_type": "stream",
     "text": [
      "response_text type: <class 'str'>\n",
      "{\n",
      "    \"Meta Data\": {\n",
      "        \"1. Information\": \"Daily Prices (open, high, low, close) and Volumes\",\n",
      "        \"2. Symbol\": \"AMBUJACEM.BSE\",\n",
      "        \"3. Last Refreshed\": \"2025-05-23\",\n",
      "        \"4. Output \n"
     ]
    }
   ],
   "source": [
    "response_text = response.text\n",
    "\n",
    "print(\"response_text type:\", type(response_text))\n",
    "print(response_text[:200])"
   ]
  },
  {
   "cell_type": "markdown",
   "id": "c359176e-cdd8-4e95-b362-6b8fbc784d98",
   "metadata": {},
   "source": [
    "This string looks like the data we previously saw in our browser when we clicked on the URL in Task 8.1.5. But we can't work with data structured as JSON when it's a string. Instead, we need it in a dictionary.\n"
   ]
  },
  {
   "cell_type": "code",
   "execution_count": null,
   "id": "4a90eca8-bd94-4b72-9ccc-7038efbf0412",
   "metadata": {},
   "outputs": [],
   "source": [
    "Task: Use json method to access a dictionary version of the data. Assign it to the variable name response_data."
   ]
  },
  {
   "cell_type": "code",
   "execution_count": 20,
   "id": "6c0d031b-c5dc-445a-8536-f5fd435505f8",
   "metadata": {
    "tags": []
   },
   "outputs": [
    {
     "name": "stdout",
     "output_type": "stream",
     "text": [
      "response_data type: <class 'dict'>\n"
     ]
    }
   ],
   "source": [
    "response_data = response.json()\n",
    "\n",
    "print(\"response_data type:\", type(response_data))"
   ]
  },
  {
   "cell_type": "markdown",
   "id": "43d41482-f257-4609-bf3d-16ed48e2adcb",
   "metadata": {},
   "source": [
    "Let's check to make sure that the data is structured in the same way we saw in our browser."
   ]
  },
  {
   "cell_type": "code",
   "execution_count": null,
   "id": "460c00c0-b74e-407d-b95f-9587fdb655be",
   "metadata": {},
   "outputs": [],
   "source": [
    "Task: Print the keys of response_data. Are they what you expected"
   ]
  },
  {
   "cell_type": "code",
   "execution_count": 21,
   "id": "8b78ca27-8b8a-4793-8336-fb1a7a9f1256",
   "metadata": {
    "tags": []
   },
   "outputs": [
    {
     "data": {
      "text/plain": [
       "dict_keys(['Meta Data', 'Time Series (Daily)'])"
      ]
     },
     "execution_count": 21,
     "metadata": {},
     "output_type": "execute_result"
    }
   ],
   "source": [
    "# Print `response_data` keys\n",
    "response_data.keys()"
   ]
  },
  {
   "cell_type": "markdown",
   "id": "9c032bdc-7ebe-435a-b499-2ce39229cc54",
   "metadata": {},
   "source": [
    "Now let's look at data that's assigned to the \"Time Series (Daily)\" key."
   ]
  },
  {
   "cell_type": "code",
   "execution_count": null,
   "id": "bf2170ec-74c9-437b-8462-143356781323",
   "metadata": {},
   "outputs": [],
   "source": [
    "Task : Assign the value for the \"Time Series (Daily)\" key to the variable stock_data. Then examine the data for one of the days in stock_data."
   ]
  },
  {
   "cell_type": "code",
   "execution_count": 22,
   "id": "53cfee9e-3504-4759-8ff5-66fa08bfbff3",
   "metadata": {
    "tags": []
   },
   "outputs": [
    {
     "name": "stdout",
     "output_type": "stream",
     "text": [
      "stock_data type: <class 'dict'>\n"
     ]
    },
    {
     "data": {
      "text/plain": [
       "dict_keys(['2025-05-23', '2025-05-22', '2025-05-21', '2025-05-20', '2025-05-19', '2025-05-16', '2025-05-15', '2025-05-14', '2025-05-13', '2025-05-12', '2025-05-09', '2025-05-08', '2025-05-07', '2025-05-06', '2025-05-05', '2025-05-02', '2025-04-30', '2025-04-29', '2025-04-28', '2025-04-25', '2025-04-24', '2025-04-23', '2025-04-22', '2025-04-21', '2025-04-17', '2025-04-16', '2025-04-15', '2025-04-11', '2025-04-09', '2025-04-08', '2025-04-07', '2025-04-04', '2025-04-03', '2025-04-02', '2025-04-01', '2025-03-28', '2025-03-27', '2025-03-26', '2025-03-25', '2025-03-24', '2025-03-21', '2025-03-20', '2025-03-19', '2025-03-18', '2025-03-17', '2025-03-13', '2025-03-12', '2025-03-11', '2025-03-10', '2025-03-07', '2025-03-06', '2025-03-05', '2025-03-04', '2025-03-03', '2025-02-28', '2025-02-27', '2025-02-25', '2025-02-24', '2025-02-21', '2025-02-20', '2025-02-19', '2025-02-18', '2025-02-17', '2025-02-14', '2025-02-13', '2025-02-12', '2025-02-11', '2025-02-10', '2025-02-07', '2025-02-06', '2025-02-05', '2025-02-04', '2025-02-03', '2025-01-31', '2025-01-30', '2025-01-29', '2025-01-28', '2025-01-27', '2025-01-24', '2025-01-23', '2025-01-22', '2025-01-21', '2025-01-20', '2025-01-17', '2025-01-16', '2025-01-15', '2025-01-14', '2025-01-13', '2025-01-10', '2025-01-09', '2025-01-08', '2025-01-07', '2025-01-06', '2025-01-03', '2025-01-02', '2025-01-01', '2024-12-31', '2024-12-30', '2024-12-27', '2024-12-26'])"
      ]
     },
     "execution_count": 22,
     "metadata": {},
     "output_type": "execute_result"
    }
   ],
   "source": [
    "# Extract `\"Time Series (Daily)\"` value from `response_data`\n",
    "stock_data = response_data[\"Time Series (Daily)\"]\n",
    "\n",
    "print(\"stock_data type:\", type(stock_data))\n",
    "\n",
    "# Extract data for one of the days in `stock_data`\n",
    "\n",
    "stock_data.keys()\n"
   ]
  },
  {
   "cell_type": "markdown",
   "id": "ce6698fa-19fb-4f20-9248-2433d5be9125",
   "metadata": {},
   "source": [
    "Now that we know how the data is organized when we extract it from the API, let's transform it into a DataFrame to make it more manageable."
   ]
  },
  {
   "cell_type": "code",
   "execution_count": 23,
   "id": "ef301bb9-212f-4e4e-824c-01a97913572c",
   "metadata": {
    "tags": []
   },
   "outputs": [
    {
     "name": "stdout",
     "output_type": "stream",
     "text": [
      "stock_data type: <class 'dict'>\n"
     ]
    },
    {
     "data": {
      "text/plain": [
       "{'1. open': '565.1000',\n",
       " '2. high': '576.0500',\n",
       " '3. low': '565.1000',\n",
       " '4. close': '571.4500',\n",
       " '5. volume': '82849'}"
      ]
     },
     "execution_count": 23,
     "metadata": {},
     "output_type": "execute_result"
    }
   ],
   "source": [
    "# Extract `\"Time Series (Daily)\"` value from `response_data`\n",
    "stock_data = response_data[\"Time Series (Daily)\"]\n",
    "\n",
    "print(\"stock_data type:\", type(stock_data))\n",
    "\n",
    "# Extract data for one of the days in `stock_data`\n",
    "\n",
    "stock_data['2025-05-23']"
   ]
  },
  {
   "cell_type": "markdown",
   "id": "d12c6cbe-d36b-4f8f-b928-9e4e61b99a21",
   "metadata": {},
   "source": [
    "Task: Read the data from stock_data into a DataFrame named df_ambuja. Be sure all your data types are correct!"
   ]
  },
  {
   "cell_type": "code",
   "execution_count": 25,
   "id": "c127d684-a62c-4a6d-8370-032f7c3af6c9",
   "metadata": {
    "tags": []
   },
   "outputs": [
    {
     "name": "stdout",
     "output_type": "stream",
     "text": [
      "df_ambuja shape: (100, 5)\n",
      "\n",
      "<class 'pandas.core.frame.DataFrame'>\n",
      "Index: 100 entries, 2025-05-23 to 2024-12-26\n",
      "Data columns (total 5 columns):\n",
      " #   Column     Non-Null Count  Dtype  \n",
      "---  ------     --------------  -----  \n",
      " 0   1. open    100 non-null    float64\n",
      " 1   2. high    100 non-null    float64\n",
      " 2   3. low     100 non-null    float64\n",
      " 3   4. close   100 non-null    float64\n",
      " 4   5. volume  100 non-null    float64\n",
      "dtypes: float64(5)\n",
      "memory usage: 4.7+ KB\n",
      "None\n"
     ]
    },
    {
     "data": {
      "text/html": [
       "<div>\n",
       "<style scoped>\n",
       "    .dataframe tbody tr th:only-of-type {\n",
       "        vertical-align: middle;\n",
       "    }\n",
       "\n",
       "    .dataframe tbody tr th {\n",
       "        vertical-align: top;\n",
       "    }\n",
       "\n",
       "    .dataframe thead th {\n",
       "        text-align: right;\n",
       "    }\n",
       "</style>\n",
       "<table border=\"1\" class=\"dataframe\">\n",
       "  <thead>\n",
       "    <tr style=\"text-align: right;\">\n",
       "      <th></th>\n",
       "      <th>1. open</th>\n",
       "      <th>2. high</th>\n",
       "      <th>3. low</th>\n",
       "      <th>4. close</th>\n",
       "      <th>5. volume</th>\n",
       "    </tr>\n",
       "  </thead>\n",
       "  <tbody>\n",
       "    <tr>\n",
       "      <th>2025-05-23</th>\n",
       "      <td>565.10</td>\n",
       "      <td>576.05</td>\n",
       "      <td>565.10</td>\n",
       "      <td>571.45</td>\n",
       "      <td>82849.0</td>\n",
       "    </tr>\n",
       "    <tr>\n",
       "      <th>2025-05-22</th>\n",
       "      <td>565.35</td>\n",
       "      <td>569.35</td>\n",
       "      <td>561.40</td>\n",
       "      <td>567.70</td>\n",
       "      <td>479108.0</td>\n",
       "    </tr>\n",
       "    <tr>\n",
       "      <th>2025-05-21</th>\n",
       "      <td>560.95</td>\n",
       "      <td>570.50</td>\n",
       "      <td>560.95</td>\n",
       "      <td>567.95</td>\n",
       "      <td>34692.0</td>\n",
       "    </tr>\n",
       "    <tr>\n",
       "      <th>2025-05-20</th>\n",
       "      <td>567.95</td>\n",
       "      <td>571.25</td>\n",
       "      <td>561.00</td>\n",
       "      <td>561.90</td>\n",
       "      <td>307660.0</td>\n",
       "    </tr>\n",
       "    <tr>\n",
       "      <th>2025-05-19</th>\n",
       "      <td>569.30</td>\n",
       "      <td>569.30</td>\n",
       "      <td>559.40</td>\n",
       "      <td>565.90</td>\n",
       "      <td>48759.0</td>\n",
       "    </tr>\n",
       "    <tr>\n",
       "      <th>2025-05-16</th>\n",
       "      <td>548.95</td>\n",
       "      <td>565.95</td>\n",
       "      <td>548.25</td>\n",
       "      <td>563.30</td>\n",
       "      <td>67740.0</td>\n",
       "    </tr>\n",
       "    <tr>\n",
       "      <th>2025-05-15</th>\n",
       "      <td>543.85</td>\n",
       "      <td>548.25</td>\n",
       "      <td>539.50</td>\n",
       "      <td>547.10</td>\n",
       "      <td>88528.0</td>\n",
       "    </tr>\n",
       "    <tr>\n",
       "      <th>2025-05-14</th>\n",
       "      <td>541.80</td>\n",
       "      <td>544.85</td>\n",
       "      <td>536.10</td>\n",
       "      <td>543.90</td>\n",
       "      <td>56000.0</td>\n",
       "    </tr>\n",
       "    <tr>\n",
       "      <th>2025-05-13</th>\n",
       "      <td>542.00</td>\n",
       "      <td>542.05</td>\n",
       "      <td>534.55</td>\n",
       "      <td>537.10</td>\n",
       "      <td>225619.0</td>\n",
       "    </tr>\n",
       "    <tr>\n",
       "      <th>2025-05-12</th>\n",
       "      <td>540.00</td>\n",
       "      <td>544.00</td>\n",
       "      <td>535.50</td>\n",
       "      <td>541.45</td>\n",
       "      <td>119526.0</td>\n",
       "    </tr>\n",
       "  </tbody>\n",
       "</table>\n",
       "</div>"
      ],
      "text/plain": [
       "            1. open  2. high  3. low  4. close  5. volume\n",
       "2025-05-23   565.10   576.05  565.10    571.45    82849.0\n",
       "2025-05-22   565.35   569.35  561.40    567.70   479108.0\n",
       "2025-05-21   560.95   570.50  560.95    567.95    34692.0\n",
       "2025-05-20   567.95   571.25  561.00    561.90   307660.0\n",
       "2025-05-19   569.30   569.30  559.40    565.90    48759.0\n",
       "2025-05-16   548.95   565.95  548.25    563.30    67740.0\n",
       "2025-05-15   543.85   548.25  539.50    547.10    88528.0\n",
       "2025-05-14   541.80   544.85  536.10    543.90    56000.0\n",
       "2025-05-13   542.00   542.05  534.55    537.10   225619.0\n",
       "2025-05-12   540.00   544.00  535.50    541.45   119526.0"
      ]
     },
     "execution_count": 25,
     "metadata": {},
     "output_type": "execute_result"
    }
   ],
   "source": [
    "import pandas as pd\n",
    "df_ambuja = pd.DataFrame.from_dict(stock_data,orient=\"index\",dtype=float)\n",
    "\n",
    "print(\"df_ambuja shape:\", df_ambuja.shape)\n",
    "print()\n",
    "print(df_ambuja.info())\n",
    "df_ambuja.head(10)"
   ]
  },
  {
   "cell_type": "markdown",
   "id": "d59a745e-af6d-40c3-a967-48b5e66a4e41",
   "metadata": {},
   "source": [
    "Did you notice that the index for df_ambuja doesn't have an entry for all days? Given that this is stock market data, why do you think that is?\n",
    "All in all, this looks pretty good, but there are a couple of problems: the data type of the dates, and the format of the headers. Let's fix the dates first. Right now, the dates are strings; in order to make the rest of our code work, we'll need to create a proper DatetimeIndex."
   ]
  },
  {
   "cell_type": "code",
   "execution_count": null,
   "id": "f132eee2-ec5c-4818-8561-029ede72cd34",
   "metadata": {},
   "outputs": [],
   "source": [
    "Task: Transform the index of df_ambuja into a DatetimeIndex with the name \"date\"."
   ]
  },
  {
   "cell_type": "code",
   "execution_count": 26,
   "id": "989a6b9d-7a4f-48b1-8e7d-919a11320f5d",
   "metadata": {
    "tags": []
   },
   "outputs": [
    {
     "data": {
      "text/plain": [
       "Index(['2025-05-23', '2025-05-22', '2025-05-21', '2025-05-20', '2025-05-19',\n",
       "       '2025-05-16', '2025-05-15', '2025-05-14', '2025-05-13', '2025-05-12',\n",
       "       '2025-05-09', '2025-05-08', '2025-05-07', '2025-05-06', '2025-05-05',\n",
       "       '2025-05-02', '2025-04-30', '2025-04-29', '2025-04-28', '2025-04-25',\n",
       "       '2025-04-24', '2025-04-23', '2025-04-22', '2025-04-21', '2025-04-17',\n",
       "       '2025-04-16', '2025-04-15', '2025-04-11', '2025-04-09', '2025-04-08',\n",
       "       '2025-04-07', '2025-04-04', '2025-04-03', '2025-04-02', '2025-04-01',\n",
       "       '2025-03-28', '2025-03-27', '2025-03-26', '2025-03-25', '2025-03-24',\n",
       "       '2025-03-21', '2025-03-20', '2025-03-19', '2025-03-18', '2025-03-17',\n",
       "       '2025-03-13', '2025-03-12', '2025-03-11', '2025-03-10', '2025-03-07',\n",
       "       '2025-03-06', '2025-03-05', '2025-03-04', '2025-03-03', '2025-02-28',\n",
       "       '2025-02-27', '2025-02-25', '2025-02-24', '2025-02-21', '2025-02-20',\n",
       "       '2025-02-19', '2025-02-18', '2025-02-17', '2025-02-14', '2025-02-13',\n",
       "       '2025-02-12', '2025-02-11', '2025-02-10', '2025-02-07', '2025-02-06',\n",
       "       '2025-02-05', '2025-02-04', '2025-02-03', '2025-01-31', '2025-01-30',\n",
       "       '2025-01-29', '2025-01-28', '2025-01-27', '2025-01-24', '2025-01-23',\n",
       "       '2025-01-22', '2025-01-21', '2025-01-20', '2025-01-17', '2025-01-16',\n",
       "       '2025-01-15', '2025-01-14', '2025-01-13', '2025-01-10', '2025-01-09',\n",
       "       '2025-01-08', '2025-01-07', '2025-01-06', '2025-01-03', '2025-01-02',\n",
       "       '2025-01-01', '2024-12-31', '2024-12-30', '2024-12-27', '2024-12-26'],\n",
       "      dtype='object')"
      ]
     },
     "execution_count": 26,
     "metadata": {},
     "output_type": "execute_result"
    }
   ],
   "source": [
    "(df_ambuja.index)"
   ]
  },
  {
   "cell_type": "code",
   "execution_count": 27,
   "id": "c4c83083-f35f-4d2d-ab10-c2294ba0eb6d",
   "metadata": {
    "tags": []
   },
   "outputs": [
    {
     "name": "stdout",
     "output_type": "stream",
     "text": [
      "<class 'pandas.core.frame.DataFrame'>\n",
      "DatetimeIndex: 100 entries, 2025-05-23 to 2024-12-26\n",
      "Data columns (total 5 columns):\n",
      " #   Column     Non-Null Count  Dtype  \n",
      "---  ------     --------------  -----  \n",
      " 0   1. open    100 non-null    float64\n",
      " 1   2. high    100 non-null    float64\n",
      " 2   3. low     100 non-null    float64\n",
      " 3   4. close   100 non-null    float64\n",
      " 4   5. volume  100 non-null    float64\n",
      "dtypes: float64(5)\n",
      "memory usage: 4.7 KB\n",
      "None\n"
     ]
    },
    {
     "data": {
      "text/html": [
       "<div>\n",
       "<style scoped>\n",
       "    .dataframe tbody tr th:only-of-type {\n",
       "        vertical-align: middle;\n",
       "    }\n",
       "\n",
       "    .dataframe tbody tr th {\n",
       "        vertical-align: top;\n",
       "    }\n",
       "\n",
       "    .dataframe thead th {\n",
       "        text-align: right;\n",
       "    }\n",
       "</style>\n",
       "<table border=\"1\" class=\"dataframe\">\n",
       "  <thead>\n",
       "    <tr style=\"text-align: right;\">\n",
       "      <th></th>\n",
       "      <th>1. open</th>\n",
       "      <th>2. high</th>\n",
       "      <th>3. low</th>\n",
       "      <th>4. close</th>\n",
       "      <th>5. volume</th>\n",
       "    </tr>\n",
       "    <tr>\n",
       "      <th>date</th>\n",
       "      <th></th>\n",
       "      <th></th>\n",
       "      <th></th>\n",
       "      <th></th>\n",
       "      <th></th>\n",
       "    </tr>\n",
       "  </thead>\n",
       "  <tbody>\n",
       "    <tr>\n",
       "      <th>2025-05-23</th>\n",
       "      <td>565.10</td>\n",
       "      <td>576.05</td>\n",
       "      <td>565.10</td>\n",
       "      <td>571.45</td>\n",
       "      <td>82849.0</td>\n",
       "    </tr>\n",
       "    <tr>\n",
       "      <th>2025-05-22</th>\n",
       "      <td>565.35</td>\n",
       "      <td>569.35</td>\n",
       "      <td>561.40</td>\n",
       "      <td>567.70</td>\n",
       "      <td>479108.0</td>\n",
       "    </tr>\n",
       "    <tr>\n",
       "      <th>2025-05-21</th>\n",
       "      <td>560.95</td>\n",
       "      <td>570.50</td>\n",
       "      <td>560.95</td>\n",
       "      <td>567.95</td>\n",
       "      <td>34692.0</td>\n",
       "    </tr>\n",
       "    <tr>\n",
       "      <th>2025-05-20</th>\n",
       "      <td>567.95</td>\n",
       "      <td>571.25</td>\n",
       "      <td>561.00</td>\n",
       "      <td>561.90</td>\n",
       "      <td>307660.0</td>\n",
       "    </tr>\n",
       "    <tr>\n",
       "      <th>2025-05-19</th>\n",
       "      <td>569.30</td>\n",
       "      <td>569.30</td>\n",
       "      <td>559.40</td>\n",
       "      <td>565.90</td>\n",
       "      <td>48759.0</td>\n",
       "    </tr>\n",
       "  </tbody>\n",
       "</table>\n",
       "</div>"
      ],
      "text/plain": [
       "            1. open  2. high  3. low  4. close  5. volume\n",
       "date                                                     \n",
       "2025-05-23   565.10   576.05  565.10    571.45    82849.0\n",
       "2025-05-22   565.35   569.35  561.40    567.70   479108.0\n",
       "2025-05-21   560.95   570.50  560.95    567.95    34692.0\n",
       "2025-05-20   567.95   571.25  561.00    561.90   307660.0\n",
       "2025-05-19   569.30   569.30  559.40    565.90    48759.0"
      ]
     },
     "execution_count": 27,
     "metadata": {},
     "output_type": "execute_result"
    }
   ],
   "source": [
    "# Convert `df_ambuja` index to `DatetimeIndex`\n",
    "df_ambuja.index = pd.to_datetime(df_ambuja.index)\n",
    "# Name index \"date\"\n",
    "df_ambuja.index.name=\"date\"\n",
    "print(df_ambuja.info())\n",
    "df_ambuja.head()"
   ]
  },
  {
   "cell_type": "markdown",
   "id": "6e9f8b61-9d58-4ecf-be3d-571ab7382180",
   "metadata": {},
   "source": [
    "Task: Remove the numbering from the column names for df_ambuja."
   ]
  },
  {
   "cell_type": "code",
   "execution_count": 29,
   "id": "69c95ebf-3010-4f14-bc86-39893e1013b0",
   "metadata": {
    "tags": []
   },
   "outputs": [
    {
     "data": {
      "text/plain": [
       "Index(['1. open', '2. high', '3. low', '4. close', '5. volume'], dtype='object')"
      ]
     },
     "execution_count": 29,
     "metadata": {},
     "output_type": "execute_result"
    }
   ],
   "source": [
    "df_ambuja.columns"
   ]
  },
  {
   "cell_type": "code",
   "execution_count": 30,
   "id": "3cd0fb60-84f4-4f60-b17c-bb3424ffa822",
   "metadata": {
    "tags": []
   },
   "outputs": [
    {
     "data": {
      "text/plain": [
       "['1. open', '2. high', '3. low', '4. close', '5. volume']"
      ]
     },
     "execution_count": 30,
     "metadata": {},
     "output_type": "execute_result"
    }
   ],
   "source": [
    "[c for c in df_ambuja.columns]"
   ]
  },
  {
   "cell_type": "code",
   "execution_count": 31,
   "id": "d3d1ee4e-44e9-4925-95e5-0c989035ce1a",
   "metadata": {
    "tags": []
   },
   "outputs": [
    {
     "data": {
      "text/plain": [
       "['open', 'high', 'low', 'close', 'volume']"
      ]
     },
     "execution_count": 31,
     "metadata": {},
     "output_type": "execute_result"
    }
   ],
   "source": [
    "[c[3:] for c in df_ambuja.columns]"
   ]
  },
  {
   "cell_type": "code",
   "execution_count": 32,
   "id": "c8daecd9-1929-4ce2-aff0-ab08403ad800",
   "metadata": {
    "tags": []
   },
   "outputs": [
    {
     "data": {
      "text/plain": [
       "['open', 'high', 'low', 'close', 'volume']"
      ]
     },
     "execution_count": 32,
     "metadata": {},
     "output_type": "execute_result"
    }
   ],
   "source": [
    "[c.split(\". \")[1] for c in df_ambuja.columns]"
   ]
  },
  {
   "cell_type": "code",
   "execution_count": 33,
   "id": "3e4bb916-9b2c-4225-826e-950bd24b2bc5",
   "metadata": {
    "tags": []
   },
   "outputs": [
    {
     "name": "stdout",
     "output_type": "stream",
     "text": [
      "<class 'pandas.core.frame.DataFrame'>\n",
      "DatetimeIndex: 100 entries, 2025-05-23 to 2024-12-26\n",
      "Data columns (total 5 columns):\n",
      " #   Column  Non-Null Count  Dtype  \n",
      "---  ------  --------------  -----  \n",
      " 0   open    100 non-null    float64\n",
      " 1   high    100 non-null    float64\n",
      " 2   low     100 non-null    float64\n",
      " 3   close   100 non-null    float64\n",
      " 4   volume  100 non-null    float64\n",
      "dtypes: float64(5)\n",
      "memory usage: 4.7 KB\n",
      "None\n"
     ]
    },
    {
     "data": {
      "text/html": [
       "<div>\n",
       "<style scoped>\n",
       "    .dataframe tbody tr th:only-of-type {\n",
       "        vertical-align: middle;\n",
       "    }\n",
       "\n",
       "    .dataframe tbody tr th {\n",
       "        vertical-align: top;\n",
       "    }\n",
       "\n",
       "    .dataframe thead th {\n",
       "        text-align: right;\n",
       "    }\n",
       "</style>\n",
       "<table border=\"1\" class=\"dataframe\">\n",
       "  <thead>\n",
       "    <tr style=\"text-align: right;\">\n",
       "      <th></th>\n",
       "      <th>open</th>\n",
       "      <th>high</th>\n",
       "      <th>low</th>\n",
       "      <th>close</th>\n",
       "      <th>volume</th>\n",
       "    </tr>\n",
       "    <tr>\n",
       "      <th>date</th>\n",
       "      <th></th>\n",
       "      <th></th>\n",
       "      <th></th>\n",
       "      <th></th>\n",
       "      <th></th>\n",
       "    </tr>\n",
       "  </thead>\n",
       "  <tbody>\n",
       "    <tr>\n",
       "      <th>2025-05-23</th>\n",
       "      <td>565.10</td>\n",
       "      <td>576.05</td>\n",
       "      <td>565.10</td>\n",
       "      <td>571.45</td>\n",
       "      <td>82849.0</td>\n",
       "    </tr>\n",
       "    <tr>\n",
       "      <th>2025-05-22</th>\n",
       "      <td>565.35</td>\n",
       "      <td>569.35</td>\n",
       "      <td>561.40</td>\n",
       "      <td>567.70</td>\n",
       "      <td>479108.0</td>\n",
       "    </tr>\n",
       "    <tr>\n",
       "      <th>2025-05-21</th>\n",
       "      <td>560.95</td>\n",
       "      <td>570.50</td>\n",
       "      <td>560.95</td>\n",
       "      <td>567.95</td>\n",
       "      <td>34692.0</td>\n",
       "    </tr>\n",
       "    <tr>\n",
       "      <th>2025-05-20</th>\n",
       "      <td>567.95</td>\n",
       "      <td>571.25</td>\n",
       "      <td>561.00</td>\n",
       "      <td>561.90</td>\n",
       "      <td>307660.0</td>\n",
       "    </tr>\n",
       "    <tr>\n",
       "      <th>2025-05-19</th>\n",
       "      <td>569.30</td>\n",
       "      <td>569.30</td>\n",
       "      <td>559.40</td>\n",
       "      <td>565.90</td>\n",
       "      <td>48759.0</td>\n",
       "    </tr>\n",
       "  </tbody>\n",
       "</table>\n",
       "</div>"
      ],
      "text/plain": [
       "              open    high     low   close    volume\n",
       "date                                                \n",
       "2025-05-23  565.10  576.05  565.10  571.45   82849.0\n",
       "2025-05-22  565.35  569.35  561.40  567.70  479108.0\n",
       "2025-05-21  560.95  570.50  560.95  567.95   34692.0\n",
       "2025-05-20  567.95  571.25  561.00  561.90  307660.0\n",
       "2025-05-19  569.30  569.30  559.40  565.90   48759.0"
      ]
     },
     "execution_count": 33,
     "metadata": {},
     "output_type": "execute_result"
    }
   ],
   "source": [
    "# Remove numbering from `df_ambuja` column names\n",
    "df_ambuja.columns = [c.split(\". \")[1] for c in df_ambuja.columns]\n",
    "\n",
    "print(df_ambuja.info())\n",
    "df_ambuja.head()"
   ]
  },
  {
   "cell_type": "code",
   "execution_count": null,
   "id": "b2e4ad84-c8a6-4d86-9d0c-06d08f4282aa",
   "metadata": {},
   "outputs": [],
   "source": []
  },
  {
   "cell_type": "code",
   "execution_count": null,
   "id": "7b7def82-d693-4ccb-abcc-06e9ce777d2f",
   "metadata": {},
   "outputs": [],
   "source": []
  }
 ],
 "metadata": {
  "kernelspec": {
   "display_name": "Python 3 (ipykernel)",
   "language": "python",
   "name": "python3"
  },
  "language_info": {
   "codemirror_mode": {
    "name": "ipython",
    "version": 3
   },
   "file_extension": ".py",
   "mimetype": "text/x-python",
   "name": "python",
   "nbconvert_exporter": "python",
   "pygments_lexer": "ipython3",
   "version": "3.11.4"
  }
 },
 "nbformat": 4,
 "nbformat_minor": 5
}
